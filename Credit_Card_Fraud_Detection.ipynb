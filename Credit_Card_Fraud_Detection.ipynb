{
  "nbformat": 4,
  "nbformat_minor": 0,
  "metadata": {
    "colab": {
      "provenance": []
    },
    "kernelspec": {
      "name": "python3",
      "display_name": "Python 3"
    },
    "language_info": {
      "name": "python"
    }
  },
  "cells": [
    {
      "cell_type": "markdown",
      "source": [
        "\n",
        "Import Libraries and Load Dataset"
      ],
      "metadata": {
        "id": "289rm7UGpHpl"
      }
    },
    {
      "cell_type": "code",
      "source": [
        "import pandas as pd\n",
        "import matplotlib.pyplot as plt\n",
        "import seaborn as sns\n",
        "\n",
        "# Load the dataset\n",
        "df = pd.read_csv('/content/creditcard.csv')\n",
        "\n",
        "print(\"Dataset loaded successfully!\")\n",
        "print(f\"Dataset shape: {df.shape}\")\n",
        "print(df.head())\n"
      ],
      "metadata": {
        "colab": {
          "base_uri": "https://localhost:8080/"
        },
        "id": "slEZCsPJpJuy",
        "outputId": "fdc8bf6b-f548-4179-a7ef-2c42f59c71df"
      },
      "execution_count": 1,
      "outputs": [
        {
          "output_type": "stream",
          "name": "stdout",
          "text": [
            "Dataset loaded successfully!\n",
            "Dataset shape: (284807, 31)\n",
            "   Time        V1        V2        V3        V4        V5        V6        V7  \\\n",
            "0   0.0 -1.359807 -0.072781  2.536347  1.378155 -0.338321  0.462388  0.239599   \n",
            "1   0.0  1.191857  0.266151  0.166480  0.448154  0.060018 -0.082361 -0.078803   \n",
            "2   1.0 -1.358354 -1.340163  1.773209  0.379780 -0.503198  1.800499  0.791461   \n",
            "3   1.0 -0.966272 -0.185226  1.792993 -0.863291 -0.010309  1.247203  0.237609   \n",
            "4   2.0 -1.158233  0.877737  1.548718  0.403034 -0.407193  0.095921  0.592941   \n",
            "\n",
            "         V8        V9  ...       V21       V22       V23       V24       V25  \\\n",
            "0  0.098698  0.363787  ... -0.018307  0.277838 -0.110474  0.066928  0.128539   \n",
            "1  0.085102 -0.255425  ... -0.225775 -0.638672  0.101288 -0.339846  0.167170   \n",
            "2  0.247676 -1.514654  ...  0.247998  0.771679  0.909412 -0.689281 -0.327642   \n",
            "3  0.377436 -1.387024  ... -0.108300  0.005274 -0.190321 -1.175575  0.647376   \n",
            "4 -0.270533  0.817739  ... -0.009431  0.798278 -0.137458  0.141267 -0.206010   \n",
            "\n",
            "        V26       V27       V28  Amount  Class  \n",
            "0 -0.189115  0.133558 -0.021053  149.62      0  \n",
            "1  0.125895 -0.008983  0.014724    2.69      0  \n",
            "2 -0.139097 -0.055353 -0.059752  378.66      0  \n",
            "3 -0.221929  0.062723  0.061458  123.50      0  \n",
            "4  0.502292  0.219422  0.215153   69.99      0  \n",
            "\n",
            "[5 rows x 31 columns]\n"
          ]
        }
      ]
    },
    {
      "cell_type": "markdown",
      "source": [
        "Check for Missing Values and Explore Class Distribution"
      ],
      "metadata": {
        "id": "DcowBOQsqQh0"
      }
    },
    {
      "cell_type": "code",
      "source": [
        "# Check for missing values\n",
        "missing_values = df.isnull().sum()\n",
        "print(\"\\nMissing values in each column:\")\n",
        "print(missing_values)\n",
        "\n",
        "# Analyze class distribution\n",
        "class_counts = df['Class'].value_counts()\n",
        "print(\"\\nClass distribution (0 = Normal, 1 = Fraud):\")\n",
        "print(class_counts)\n",
        "\n",
        "# Plot class distribution\n",
        "plt.figure(figsize=(6,4))\n",
        "sns.countplot(x='Class', data=df)\n",
        "plt.title('Class Distribution')\n",
        "plt.show()\n"
      ],
      "metadata": {
        "colab": {
          "base_uri": "https://localhost:8080/",
          "height": 1000
        },
        "id": "wUtBlJ9pqT37",
        "outputId": "075d7dce-3989-4390-aded-77a3c85f0007"
      },
      "execution_count": 2,
      "outputs": [
        {
          "output_type": "stream",
          "name": "stdout",
          "text": [
            "\n",
            "Missing values in each column:\n",
            "Time      0\n",
            "V1        0\n",
            "V2        0\n",
            "V3        0\n",
            "V4        0\n",
            "V5        0\n",
            "V6        0\n",
            "V7        0\n",
            "V8        0\n",
            "V9        0\n",
            "V10       0\n",
            "V11       0\n",
            "V12       0\n",
            "V13       0\n",
            "V14       0\n",
            "V15       0\n",
            "V16       0\n",
            "V17       0\n",
            "V18       0\n",
            "V19       0\n",
            "V20       0\n",
            "V21       0\n",
            "V22       0\n",
            "V23       0\n",
            "V24       0\n",
            "V25       0\n",
            "V26       0\n",
            "V27       0\n",
            "V28       0\n",
            "Amount    0\n",
            "Class     0\n",
            "dtype: int64\n",
            "\n",
            "Class distribution (0 = Normal, 1 = Fraud):\n",
            "Class\n",
            "0    284315\n",
            "1       492\n",
            "Name: count, dtype: int64\n"
          ]
        },
        {
          "output_type": "display_data",
          "data": {
            "text/plain": [
              "<Figure size 600x400 with 1 Axes>"
            ],
            "image/png": "[encoded data removed]"
          },
          "metadata": {}
        }
      ]
    },
    {
      "cell_type": "markdown",
      "source": [
        "Handle Class Imbalance by Undersampling"
      ],
      "metadata": {
        "id": "hsxwfg1Eqaqd"
      }
    },
    {
      "cell_type": "code",
      "source": [
        "# Separate fraud and normal transactions\n",
        "fraud = df[df['Class'] == 1]\n",
        "normal = df[df['Class'] == 0]\n",
        "\n",
        "print(f\"\\nNumber of fraud transactions: {len(fraud)}\")\n",
        "print(f\"Number of normal transactions: {len(normal)}\")\n",
        "\n",
        "# Undersample normal transactions to match the number of fraud transactions\n",
        "normal_sample = normal.sample(n=len(fraud), random_state=1)\n",
        "\n",
        "# Combine fraud and undersampled normal transactions\n",
        "balanced_df = pd.concat([normal_sample, fraud], axis=0).sample(frac=1, random_state=1)\n",
        "\n",
        "print(f\"\\nBalanced dataset shape: {balanced_df.shape}\")\n",
        "print(\"Class distribution in balanced dataset:\")\n",
        "print(balanced_df['Class'].value_counts())\n"
      ],
      "metadata": {
        "colab": {
          "base_uri": "https://localhost:8080/"
        },
        "id": "yO9dw84Hqbor",
        "outputId": "185bb8f6-e541-44c4-8726-ee43b3a58d8c"
      },
      "execution_count": 3,
      "outputs": [
        {
          "output_type": "stream",
          "name": "stdout",
          "text": [
            "\n",
            "Number of fraud transactions: 492\n",
            "Number of normal transactions: 284315\n",
            "\n",
            "Balanced dataset shape: (984, 31)\n",
            "Class distribution in balanced dataset:\n",
            "Class\n",
            "1    492\n",
            "0    492\n",
            "Name: count, dtype: int64\n"
          ]
        }
      ]
    },
    {
      "cell_type": "markdown",
      "source": [
        "Split Features and Target Variable\n"
      ],
      "metadata": {
        "id": "tWP0l3DZqhz0"
      }
    },
    {
      "cell_type": "code",
      "source": [
        "# Split dataset into features and target variable\n",
        "X = balanced_df.drop('Class', axis=1)\n",
        "y = balanced_df['Class']\n",
        "\n",
        "print(f\"\\nFeatures shape: {X.shape}\")\n",
        "print(f\"Target shape: {y.shape}\")\n",
        "print(\"\\nSample of features:\")\n",
        "print(X.head())\n",
        "print(\"\\nSample of target values:\")\n",
        "print(y.head())\n"
      ],
      "metadata": {
        "colab": {
          "base_uri": "https://localhost:8080/"
        },
        "id": "geP9NWqkqigj",
        "outputId": "eda370cd-0a07-4a0f-f5ab-01abd9190f9d"
      },
      "execution_count": 4,
      "outputs": [
        {
          "output_type": "stream",
          "name": "stdout",
          "text": [
            "\n",
            "Features shape: (984, 30)\n",
            "Target shape: (984,)\n",
            "\n",
            "Sample of features:\n",
            "            Time         V1        V2         V3         V4         V5  \\\n",
            "251881  155542.0   1.868226  1.363077  -1.994934   4.173516   1.239751   \n",
            "59433    48839.0  -0.372224  0.850924   0.819148  -0.597507   0.941464   \n",
            "221833  142719.0  -0.435970 -0.795462  -0.680776  -1.731704   1.434804   \n",
            "150678   93879.0 -13.086519  7.352148 -18.256576  10.648505 -11.731476   \n",
            "102782   68357.0   1.232604 -0.548931   1.087873   0.894082  -1.433055   \n",
            "\n",
            "              V6         V7        V8        V9  ...       V20       V21  \\\n",
            "251881 -0.746186   0.572731 -0.131235 -1.551839  ... -0.172216 -0.301001   \n",
            "59433   0.866622   0.429409  0.376960 -0.414962  ...  0.074709 -0.273044   \n",
            "221833 -2.180876   0.369731 -0.318681 -1.723893  ...  0.195485  0.653145   \n",
            "150678 -3.659167 -14.873658  8.810473 -5.418204  ... -1.376298  2.761157   \n",
            "102782 -0.356797  -0.717492  0.003167 -0.100397  ... -0.576274 -0.448671   \n",
            "\n",
            "             V22       V23       V24       V25       V26       V27       V28  \\\n",
            "251881 -0.818972  0.206812 -0.263683 -0.114958 -0.240672 -0.006629  0.017258   \n",
            "59433  -0.753344 -0.213051 -1.752268 -0.095216  0.193437  0.270997  0.087904   \n",
            "221833  1.480765  0.031083  0.114248 -0.616473 -0.154790  0.142698  0.242053   \n",
            "150678 -0.266162 -0.412861  0.519952 -0.743909 -0.167808 -2.498300 -0.711066   \n",
            "102782 -0.517568  0.012833  0.699217  0.527258 -0.322607  0.080805  0.035427   \n",
            "\n",
            "        Amount  \n",
            "251881    3.14  \n",
            "59433     1.29  \n",
            "221833   18.09  \n",
            "150678   30.31  \n",
            "102782   19.59  \n",
            "\n",
            "[5 rows x 30 columns]\n",
            "\n",
            "Sample of target values:\n",
            "251881    1\n",
            "59433     0\n",
            "221833    0\n",
            "150678    1\n",
            "102782    1\n",
            "Name: Class, dtype: int64\n"
          ]
        }
      ]
    },
    {
      "cell_type": "markdown",
      "source": [
        "Split Data into Training and Testing Sets"
      ],
      "metadata": {
        "id": "a1Xc6pPGqnsy"
      }
    },
    {
      "cell_type": "code",
      "source": [
        "from sklearn.model_selection import train_test_split\n",
        "\n",
        "# Split the data (70% train, 30% test)\n",
        "X_train, X_test, y_train, y_test = train_test_split(\n",
        "    X, y, test_size=0.3, random_state=42)\n",
        "\n",
        "print(f\"Training set size: {X_train.shape[0]} samples\")\n",
        "print(f\"Testing set size: {X_test.shape[0]} samples\")\n"
      ],
      "metadata": {
        "colab": {
          "base_uri": "https://localhost:8080/"
        },
        "id": "JVpPbcVfqoqL",
        "outputId": "69c4033a-94a8-46a5-fde3-bf35feda1f3c"
      },
      "execution_count": 5,
      "outputs": [
        {
          "output_type": "stream",
          "name": "stdout",
          "text": [
            "Training set size: 688 samples\n",
            "Testing set size: 296 samples\n"
          ]
        }
      ]
    },
    {
      "cell_type": "markdown",
      "source": [
        " Train Logistic Regression Model and Make Predictions"
      ],
      "metadata": {
        "id": "oCk2hz8LqzWz"
      }
    },
    {
      "cell_type": "code",
      "source": [
        "from sklearn.linear_model import LogisticRegression\n",
        "\n",
        "# Initialize and train the model\n",
        "model = LogisticRegression(max_iter=1000)\n",
        "model.fit(X_train, y_train)\n",
        "\n",
        "# Predict on test data\n",
        "y_pred = model.predict(X_test)\n",
        "\n",
        "print(\"Model training complete and predictions made.\")\n"
      ],
      "metadata": {
        "colab": {
          "base_uri": "https://localhost:8080/"
        },
        "id": "uhonejhPq0Rx",
        "outputId": "18b01e28-ccc9-4918-87c6-80d9dbde8fee"
      },
      "execution_count": 6,
      "outputs": [
        {
          "output_type": "stream",
          "name": "stdout",
          "text": [
            "Model training complete and predictions made.\n"
          ]
        },
        {
          "output_type": "stream",
          "name": "stderr",
          "text": [
            "/usr/local/lib/python3.11/dist-packages/sklearn/linear_model/_logistic.py:465: ConvergenceWarning: lbfgs failed to converge (status=1):\n",
            "STOP: TOTAL NO. OF ITERATIONS REACHED LIMIT.\n",
            "\n",
            "Increase the number of iterations (max_iter) or scale the data as shown in:\n",
            "    https://scikit-learn.org/stable/modules/preprocessing.html\n",
            "Please also refer to the documentation for alternative solver options:\n",
            "    https://scikit-learn.org/stable/modules/linear_model.html#logistic-regression\n",
            "  n_iter_i = _check_optimize_result(\n"
          ]
        }
      ]
    },
    {
      "cell_type": "markdown",
      "source": [
        "Evaluate Model Performance"
      ],
      "metadata": {
        "id": "pi3kBzQVrCRS"
      }
    },
    {
      "cell_type": "code",
      "source": [
        "from sklearn.metrics import accuracy_score, confusion_matrix, classification_report\n",
        "import seaborn as sns\n",
        "\n",
        "# Accuracy\n",
        "accuracy = accuracy_score(y_test, y_pred)\n",
        "print(f\"Accuracy: {accuracy:.4f}\")\n",
        "\n",
        "# Confusion Matrix\n",
        "cm = confusion_matrix(y_test, y_pred)\n",
        "print(\"\\nConfusion Matrix:\")\n",
        "print(cm)\n",
        "\n",
        "# Plot confusion matrix heatmap\n",
        "sns.heatmap(cm, annot=True, fmt='d', cmap='Blues', xticklabels=['Normal', 'Fraud'], yticklabels=['Normal', 'Fraud'])\n",
        "plt.xlabel('Predicted')\n",
        "plt.ylabel('Actual')\n",
        "plt.title('Confusion Matrix')\n",
        "plt.show()\n",
        "\n",
        "# Classification Report\n",
        "print(\"\\nClassification Report:\")\n",
        "print(classification_report(y_test, y_pred))\n"
      ],
      "metadata": {
        "colab": {
          "base_uri": "https://localhost:8080/",
          "height": 750
        },
        "id": "hK_pTp6KrDAq",
        "outputId": "0d3d65ee-bbf4-4c28-f673-94b03a8c159f"
      },
      "execution_count": 7,
      "outputs": [
        {
          "output_type": "stream",
          "name": "stdout",
          "text": [
            "Accuracy: 0.9426\n",
            "\n",
            "Confusion Matrix:\n",
            "[[143   4]\n",
            " [ 13 136]]\n"
          ]
        },
        {
          "output_type": "display_data",
          "data": {
            "text/plain": [
              "<Figure size 640x480 with 2 Axes>"
            ],
            "image/png": "[encoded data removed]"
          },
          "metadata": {}
        },
        {
          "output_type": "stream",
          "name": "stdout",
          "text": [
            "\n",
            "Classification Report:\n",
            "              precision    recall  f1-score   support\n",
            "\n",
            "           0       0.92      0.97      0.94       147\n",
            "           1       0.97      0.91      0.94       149\n",
            "\n",
            "    accuracy                           0.94       296\n",
            "   macro avg       0.94      0.94      0.94       296\n",
            "weighted avg       0.94      0.94      0.94       296\n",
            "\n"
          ]
        }
      ]
    }
  ]
}